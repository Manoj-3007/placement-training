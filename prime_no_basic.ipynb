{
 "cells": [
  {
   "cell_type": "code",
   "execution_count": 4,
   "metadata": {},
   "outputs": [
    {
     "name": "stdout",
     "output_type": "stream",
     "text": [
      "9\n"
     ]
    }
   ],
   "source": [
    "n=int(input())\n",
    "s=1\n",
    "while(n!=0):\n",
    "  a=n%10\n",
    "  for i in range(2,(a//2)+1):\n",
    "    if(a%i==0):\n",
    "      print(\"not\")\n",
    "      break\n",
    "    #c will give the no faactors\n",
    "  else:\n",
    "    s=s*(a**2)\n",
    "  n=n//10\n",
    "print(s)"
   ]
  },
  {
   "cell_type": "code",
   "execution_count": 5,
   "metadata": {},
   "outputs": [
    {
     "name": "stdout",
     "output_type": "stream",
     "text": [
      "9\n"
     ]
    }
   ],
   "source": [
    "n=int(input())\n",
    "s=1\n",
    "while(n!=0):\n",
    "  a=n%10\n",
    "  if(a in [2,3,5,7]):\n",
    "    s=s*a**2\n",
    "  n=n//10\n",
    "print(s)\n",
    " "
   ]
  }
 ],
 "metadata": {
  "kernelspec": {
   "display_name": "Python 3",
   "language": "python",
   "name": "python3"
  },
  "language_info": {
   "codemirror_mode": {
    "name": "ipython",
    "version": 3
   },
   "file_extension": ".py",
   "mimetype": "text/x-python",
   "name": "python",
   "nbconvert_exporter": "python",
   "pygments_lexer": "ipython3",
   "version": "3.10.4"
  },
  "orig_nbformat": 4
 },
 "nbformat": 4,
 "nbformat_minor": 2
}
