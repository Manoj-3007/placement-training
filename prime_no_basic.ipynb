{
 "cells": [
  {
   "cell_type": "code",
   "execution_count": 9,
   "metadata": {},
   "outputs": [
    {
     "ename": "IndentationError",
     "evalue": "unexpected indent (258118973.py, line 2)",
     "output_type": "error",
     "traceback": [
      "\u001b[0;36m  Cell \u001b[0;32mIn[9], line 2\u001b[0;36m\u001b[0m\n\u001b[0;31m    c=0\u001b[0m\n\u001b[0m    ^\u001b[0m\n\u001b[0;31mIndentationError\u001b[0m\u001b[0;31m:\u001b[0m unexpected indent\n"
     ]
    }
   ],
   "source": [
    "n=int(input())\n",
    "c=0\n",
    "for i in range(2,(a//2)+1):\n",
    "    if(a%i==0):\n",
    "      c=c+1\n",
    "      #break\n",
    "    #c will give the no faactors\n",
    "    \n",
    "print(c)\n",
    "if(c==0):\n",
    "  print(\"it is a prime no\")         \n",
    "else:\n",
    "   print(\"not\")"
   ]
  },
  {
   "cell_type": "code",
   "execution_count": 4,
   "metadata": {},
   "outputs": [
    {
     "name": "stdout",
     "output_type": "stream",
     "text": [
      "9\n"
     ]
    }
   ],
   "source": [
    "n=int(input())\n",
    "s=1\n",
    "while(n!=0):\n",
    "  a=n%10\n",
    "  for i in range(2,(a//2)+1):\n",
    "    if(a%i==0):\n",
    "      print(\"not\")\n",
    "      break\n",
    "    #c will give the no faactors\n",
    "  else:\n",
    "    s=s*(a**2)\n",
    "  n=n//10\n",
    "print(s)"
   ]
  },
  {
   "cell_type": "code",
   "execution_count": 5,
   "metadata": {},
   "outputs": [
    {
     "name": "stdout",
     "output_type": "stream",
     "text": [
      "9\n"
     ]
    }
   ],
   "source": [
    "n=int(input())\n",
    "s=1\n",
    "while(n!=0):\n",
    "  a=n%10\n",
    "  if(a in [2,3,5,7]):\n",
    "    s=s*a**2\n",
    "  n=n//10\n",
    "print(s)\n",
    " "
   ]
  },
  {
   "cell_type": "code",
   "execution_count": 15,
   "metadata": {},
   "outputs": [
    {
     "name": "stdout",
     "output_type": "stream",
     "text": [
      "80\n"
     ]
    }
   ],
   "source": [
    "#within the given amount how many elements can we buy within the list\n",
    "n=100\n",
    "x=[]\n",
    "sum=0\n",
    "l=[30,50,70,60]\n",
    "l.sort()\n",
    "for i in l:\n",
    "    sum=sum+i\n",
    "    n=n-i\n",
    "    x.append(sum)\n",
    "    if(n<sum):\n",
    "        break\n",
    "    \n",
    "print(sum)\n"
   ]
  },
  {
   "cell_type": "code",
   "execution_count": 16,
   "metadata": {},
   "outputs": [
    {
     "name": "stdout",
     "output_type": "stream",
     "text": [
      "58\n"
     ]
    }
   ],
   "source": [
    "#within the given amount how many elements can we buy within the list\n",
    "n=100\n",
    "x=[]\n",
    "sum=0\n",
    "l=[30,50,70,60,20,5,3]\n",
    "l.sort()\n",
    "for i in l:\n",
    "    sum=sum+i\n",
    "    n=n-i\n",
    "    x.append(sum)\n",
    "    if(n<sum):\n",
    "        break\n",
    "    \n",
    "print(sum)\n"
   ]
  },
  {
   "cell_type": "code",
   "execution_count": null,
   "metadata": {},
   "outputs": [],
   "source": [
    "#within the given amount how many elements can we buy within the list\n",
    "n=100\n",
    "x=[]\n",
    "sum=0\n",
    "l=[23,50,10,15,1,4,1,8,1,9]\n",
    "l.sort()\n",
    "for i in l:\n",
    "    sum=sum+i\n",
    "    if(n<sum):\n",
    "        \n",
    "    n=n-i\n",
    "    x.append(sum)\n",
    "    if(n<sum):\n",
    "        break\n",
    "    \n",
    "print(sum)\n"
   ]
  },
  {
   "cell_type": "code",
   "execution_count": null,
   "metadata": {},
   "outputs": [],
   "source": [
    "n=100\n",
    "a=[]\n",
    "a.sort()\n",
    "c=0\n",
    "for i in a:\n",
    "    if(n>=i):\n",
    "        n=n-i\n",
    "        c=c+1\n",
    "print(c)"
   ]
  },
  {
   "cell_type": "code",
   "execution_count": 21,
   "metadata": {},
   "outputs": [
    {
     "name": "stdout",
     "output_type": "stream",
     "text": [
      "[0, 1, 4, 3, 6, 3]\n",
      "6\n"
     ]
    }
   ],
   "source": [
    "#on which day to buy an dwhich day to sell\n",
    "a=[14,5,3,6,9,2,1]\n",
    "pr=[0]\n",
    "for i in range(len(a)-1):\n",
    "    for j in range(i+1,len(a)):\n",
    "        if(a[j]>a[i]):\n",
    "            pr.append(a[j]-a[i])\n",
    "print(pr)\n",
    "print(max(pr))\n"
   ]
  },
  {
   "cell_type": "code",
   "execution_count": 20,
   "metadata": {},
   "outputs": [
    {
     "name": "stdout",
     "output_type": "stream",
     "text": [
      "5\n"
     ]
    }
   ],
   "source": [
    "print(14-9)"
   ]
  },
  {
   "cell_type": "code",
   "execution_count": null,
   "metadata": {},
   "outputs": [],
   "source": []
  }
 ],
 "metadata": {
  "kernelspec": {
   "display_name": "Python 3",
   "language": "python",
   "name": "python3"
  },
  "language_info": {
   "codemirror_mode": {
    "name": "ipython",
    "version": 3
   },
   "file_extension": ".py",
   "mimetype": "text/x-python",
   "name": "python",
   "nbconvert_exporter": "python",
   "pygments_lexer": "ipython3",
   "version": "3.10.4"
  },
  "orig_nbformat": 4
 },
 "nbformat": 4,
 "nbformat_minor": 2
}
